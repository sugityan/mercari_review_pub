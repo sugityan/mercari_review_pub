{
 "cells": [
  {
   "cell_type": "code",
   "execution_count": 60,
   "metadata": {},
   "outputs": [],
   "source": [
    "import MeCab\n",
    "import pandas as pd\n",
    "import re\n",
    "from statistics import mean\n",
    "import numpy as np"
   ]
  },
  {
   "cell_type": "code",
   "execution_count": 43,
   "metadata": {},
   "outputs": [],
   "source": [
    "path = \"Your Mecab dictinary path\"\n",
    "mecab = MeCab.Tagger(' -d {}'.format(path))\n",
    "mecab.parse(\"\")  # 追加\n",
    "\n",
    "df_22 = pd.read_csv(\"mercari_review_22.csv\", index_col=0,)\n",
    "df_23 = pd.read_csv(\"mercari_review_23.csv\", index_col=0)"
   ]
  },
  {
   "cell_type": "code",
   "execution_count": 44,
   "metadata": {},
   "outputs": [],
   "source": [
    "df_22 = df_22.rename(columns={\"0\": \"str\"})\n",
    "df_23 = df_23.rename(columns={\"0\": \"str\"})\n",
    "sample_txt = df_23.at[1, \"str\"]\n"
   ]
  },
  {
   "cell_type": "code",
   "execution_count": 45,
   "metadata": {},
   "outputs": [],
   "source": [
    "pn_df = pd.read_csv(\"pn_ja.dic.txt\",\n",
    "                     encoding=\"shift-jis\",\n",
    "                       header=None,\n",
    "                         sep=\":\", \n",
    "                         names=(\"Word\", \"Reading\", \"POS\", \"PN\"))\n",
    "word_list = list(pn_df['Word'])\n",
    "pn_list = list(pn_df['PN'])\n",
    "pn_dict = dict(zip(word_list, pn_list))"
   ]
  },
  {
   "cell_type": "code",
   "execution_count": 46,
   "metadata": {},
   "outputs": [],
   "source": [
    "def get_diclist(text):\n",
    "    if '、' in text:\n",
    "        text = text.replace('、', '')\n",
    "    \n",
    "    parsed = mecab.parse(text)      # 形態素解析結果（改行を含む文字列として得られる）\n",
    "    lines = parsed.split('\\n')  # 解析結果を1行（1語）ごとに分けてリストにする\n",
    "    lines = lines[0:-2]         # 後ろ2行は不要なので削除\n",
    "    diclist = []\n",
    "    for word in lines:\n",
    "        l = re.split('\\t|,',word)  # 各行はタブとカンマで区切られてるので\n",
    "        if not l[1] == '助詞' and not l[1] == '記号' and not l[1] == '助動詞' and not l[7] == '*':\n",
    "            d = {'Surface':l[0], 'POS1':l[1], 'POS2':l[2], 'BaseForm':l[7]}\n",
    "            diclist.append(d)\n",
    "    return(diclist)"
   ]
  },
  {
   "cell_type": "code",
   "execution_count": 47,
   "metadata": {},
   "outputs": [],
   "source": [
    "# 形態素解析結果の単語ごとdictデータにPN値を追加する関数\n",
    "def add_pnvalue(diclist_old):\n",
    "    diclist_new = []\n",
    "    for word in diclist_old:\n",
    "        base = word['BaseForm']        # 個々の辞書から基本形を取得\n",
    "        if base in pn_dict:\n",
    "            pn = float(pn_dict[base])  # 中身の型があれなので\n",
    "        else:\n",
    "            pn = 'notfound'            # その語がPN Tableになかった場合\n",
    "        word['PN'] = pn\n",
    "        diclist_new.append(word)\n",
    "    return(diclist_new)"
   ]
  },
  {
   "cell_type": "code",
   "execution_count": 48,
   "metadata": {},
   "outputs": [],
   "source": [
    "# 各ツイートのPN平均値をとる関数\n",
    "def get_pnmean(diclist):\n",
    "    pn_list = []\n",
    "    for word in diclist:\n",
    "        pn = word['PN']\n",
    "        if pn != 'notfound':\n",
    "            pn_list.append(pn)  # notfoundだった場合は追加もしない            \n",
    "    if len(pn_list) > 0:        # 「全部notfound」じゃなければ\n",
    "        pnmean = mean(pn_list)\n",
    "    else:\n",
    "        pnmean = 0              # 全部notfoundならゼロにする\n",
    "    return(pnmean)"
   ]
  },
  {
   "cell_type": "code",
   "execution_count": 49,
   "metadata": {},
   "outputs": [],
   "source": [
    "# 各ツイートのPN平均値をとる関数\n",
    "def get_pnaverage(diclist):\n",
    "    pn_list = []\n",
    "    for word in diclist:\n",
    "        pn = word['PN']\n",
    "        if pn != 'notfound':\n",
    "            pn_list.append(pn)  # notfoundだった場合は追加もしない            \n",
    "    if len(pn_list) > 0:        # 「全部notfound」じゃなければ\n",
    "        pnmean = np.average(pn_list)\n",
    "    else:\n",
    "        pnmean = 0              # 全部notfoundならゼロにする\n",
    "    return(pnmean)"
   ]
  },
  {
   "cell_type": "code",
   "execution_count": 50,
   "metadata": {},
   "outputs": [],
   "source": [
    "text_test = '昨日はラーメンを食べました．美味しかった．'"
   ]
  },
  {
   "cell_type": "code",
   "execution_count": 51,
   "metadata": {},
   "outputs": [
    {
     "data": {
      "text/plain": [
       "'昨日はラーメンを食べました．美味しかった．'"
      ]
     },
     "execution_count": 51,
     "metadata": {},
     "output_type": "execute_result"
    }
   ],
   "source": [
    "text_test"
   ]
  },
  {
   "cell_type": "code",
   "execution_count": 52,
   "metadata": {},
   "outputs": [
    {
     "data": {
      "text/plain": [
       "-0.55272911"
      ]
     },
     "execution_count": 52,
     "metadata": {},
     "output_type": "execute_result"
    }
   ],
   "source": [
    "dl_test = get_diclist(sample_txt)\n",
    "add_pnvalue(dl_test)\n",
    "dl_test = add_pnvalue(dl_test)\n",
    "get_pnmean(dl_test)\n",
    "get_pnaverage(dl_test)"
   ]
  },
  {
   "attachments": {},
   "cell_type": "markdown",
   "metadata": {},
   "source": [
    "# スコアによってテキストをランク付する"
   ]
  },
  {
   "cell_type": "code",
   "execution_count": 53,
   "metadata": {},
   "outputs": [],
   "source": [
    "pn_text_dict = {}\n",
    "\n",
    "for text in df_22[\"str\"]:\n",
    "    dl_test = get_diclist(text)\n",
    "    dl_test = add_pnvalue(dl_test)\n",
    "    score = get_pnmean(dl_test)\n",
    "    \n",
    "    pn_text_dict[text] = score\n",
    "    \n",
    "pn_text_dict = sorted(pn_text_dict.items(), key=lambda x: -x[1])\n",
    "\n",
    "# 口コミ内容と得点を出力\n",
    "# for k, v in pn_text_dict:\n",
    "#     print(str(k))\n",
    "#     print(str(v))\n",
    "#     print()"
   ]
  },
  {
   "cell_type": "code",
   "execution_count": 54,
   "metadata": {},
   "outputs": [
    {
     "data": {
      "text/html": [
       "<div>\n",
       "<style scoped>\n",
       "    .dataframe tbody tr th:only-of-type {\n",
       "        vertical-align: middle;\n",
       "    }\n",
       "\n",
       "    .dataframe tbody tr th {\n",
       "        vertical-align: top;\n",
       "    }\n",
       "\n",
       "    .dataframe thead th {\n",
       "        text-align: right;\n",
       "    }\n",
       "</style>\n",
       "<table border=\"1\" class=\"dataframe\">\n",
       "  <thead>\n",
       "    <tr style=\"text-align: right;\">\n",
       "      <th></th>\n",
       "      <th>index</th>\n",
       "      <th>内容</th>\n",
       "      <th>点数</th>\n",
       "      <th>カテゴリ</th>\n",
       "    </tr>\n",
       "  </thead>\n",
       "  <tbody>\n",
       "    <tr>\n",
       "      <th>0</th>\n",
       "      <td>305</td>\n",
       "      <td>\\nトラブルがおこってメルカリに問い合わせしても対応なし\\n</td>\n",
       "      <td>-0.797181</td>\n",
       "      <td>トラブル対応</td>\n",
       "    </tr>\n",
       "    <tr>\n",
       "      <th>1</th>\n",
       "      <td>304</td>\n",
       "      <td>\\n問い合わせの対応が遅すぎる。\\r\\nダラダラダラダラ何日もかけてやりとりするのなぜですか？\\n</td>\n",
       "      <td>-0.767037</td>\n",
       "      <td>トラブル対応</td>\n",
       "    </tr>\n",
       "    <tr>\n",
       "      <th>2</th>\n",
       "      <td>303</td>\n",
       "      <td>\\nサロンで必要な足湯機を探していた。\\r\\nほぼ適正価格で、写真もあった。\\r\\n送られて...</td>\n",
       "      <td>-0.733151</td>\n",
       "      <td>商品問題</td>\n",
       "    </tr>\n",
       "    <tr>\n",
       "      <th>3</th>\n",
       "      <td>302</td>\n",
       "      <td>\\n他の方も被害に合ってる様でトラブル対応が最悪　定型文ばっかり送ってきて実際に調べる気O ...</td>\n",
       "      <td>-0.726375</td>\n",
       "      <td>トラブル対応</td>\n",
       "    </tr>\n",
       "    <tr>\n",
       "      <th>4</th>\n",
       "      <td>301</td>\n",
       "      <td>\\n赤ちゃん用の肌着が下着扱いらしくて商品削除されて利用制限もかけられた。\\r\\nだったら全...</td>\n",
       "      <td>-0.723796</td>\n",
       "      <td>制限&amp;エラー</td>\n",
       "    </tr>\n",
       "    <tr>\n",
       "      <th>...</th>\n",
       "      <td>...</td>\n",
       "      <td>...</td>\n",
       "      <td>...</td>\n",
       "      <td>...</td>\n",
       "    </tr>\n",
       "    <tr>\n",
       "      <th>301</th>\n",
       "      <td>4</td>\n",
       "      <td>\\n安くしてもらい、品物到着後すぐ高値転売。評価と照らし合わせると、面白いですよ。\\n</td>\n",
       "      <td>-0.195626</td>\n",
       "      <td>None</td>\n",
       "    </tr>\n",
       "    <tr>\n",
       "      <th>302</th>\n",
       "      <td>3</td>\n",
       "      <td>\\nお問い合わせしてもテンプレート貼るだけのやっつけ仕事。トラブルに解決しようとする誠意が全...</td>\n",
       "      <td>-0.191247</td>\n",
       "      <td>配送問題</td>\n",
       "    </tr>\n",
       "    <tr>\n",
       "      <th>303</th>\n",
       "      <td>2</td>\n",
       "      <td>\\n問い合わせ電話番号がないので、名ばかりのカスタマーサポートに内容を入力して送信して回答待...</td>\n",
       "      <td>-0.190720</td>\n",
       "      <td>トラブル対応</td>\n",
       "    </tr>\n",
       "    <tr>\n",
       "      <th>304</th>\n",
       "      <td>1</td>\n",
       "      <td>\\n他の方の出品を見て売れているのを確認してから自分も！出品したにも関わらず…\\r\\n利用制...</td>\n",
       "      <td>-0.187919</td>\n",
       "      <td>None</td>\n",
       "    </tr>\n",
       "    <tr>\n",
       "      <th>305</th>\n",
       "      <td>0</td>\n",
       "      <td>\\n返品対応で相談したら、何もサポートしてくれなくて、でも「引き続きサポートさせていただきま...</td>\n",
       "      <td>-0.177941</td>\n",
       "      <td>トラブル対応</td>\n",
       "    </tr>\n",
       "  </tbody>\n",
       "</table>\n",
       "<p>306 rows × 4 columns</p>\n",
       "</div>"
      ],
      "text/plain": [
       "     index                                                 内容        点数  \\\n",
       "0      305                     \\nトラブルがおこってメルカリに問い合わせしても対応なし\\n -0.797181   \n",
       "1      304  \\n問い合わせの対応が遅すぎる。\\r\\nダラダラダラダラ何日もかけてやりとりするのなぜですか？\\n -0.767037   \n",
       "2      303  \\nサロンで必要な足湯機を探していた。\\r\\nほぼ適正価格で、写真もあった。\\r\\n送られて... -0.733151   \n",
       "3      302  \\n他の方も被害に合ってる様でトラブル対応が最悪　定型文ばっかり送ってきて実際に調べる気O ... -0.726375   \n",
       "4      301  \\n赤ちゃん用の肌着が下着扱いらしくて商品削除されて利用制限もかけられた。\\r\\nだったら全... -0.723796   \n",
       "..     ...                                                ...       ...   \n",
       "301      4        \\n安くしてもらい、品物到着後すぐ高値転売。評価と照らし合わせると、面白いですよ。\\n -0.195626   \n",
       "302      3  \\nお問い合わせしてもテンプレート貼るだけのやっつけ仕事。トラブルに解決しようとする誠意が全... -0.191247   \n",
       "303      2  \\n問い合わせ電話番号がないので、名ばかりのカスタマーサポートに内容を入力して送信して回答待... -0.190720   \n",
       "304      1  \\n他の方の出品を見て売れているのを確認してから自分も！出品したにも関わらず…\\r\\n利用制... -0.187919   \n",
       "305      0  \\n返品対応で相談したら、何もサポートしてくれなくて、でも「引き続きサポートさせていただきま... -0.177941   \n",
       "\n",
       "       カテゴリ  \n",
       "0    トラブル対応  \n",
       "1    トラブル対応  \n",
       "2      商品問題  \n",
       "3    トラブル対応  \n",
       "4    制限&エラー  \n",
       "..      ...  \n",
       "301    None  \n",
       "302    配送問題  \n",
       "303  トラブル対応  \n",
       "304    None  \n",
       "305  トラブル対応  \n",
       "\n",
       "[306 rows x 4 columns]"
      ]
     },
     "execution_count": 54,
     "metadata": {},
     "output_type": "execute_result"
    }
   ],
   "source": [
    "df_point_23 = pd.DataFrame(pn_text_dict, columns=[\"内容\", \"点数\"]).sort_values(\"点数\").reset_index()\n",
    "df_point_23[\"カテゴリ\"] = None\n",
    "# トラブル対応\n",
    "def func(x):\n",
    "    if \"問\" in x[\"内容\"]:\n",
    "        return \"トラブル対応\"\n",
    "    elif  \"対応\" in x[\"内容\"]:\n",
    "        return \"トラブル対応\"\n",
    "    elif  \"フォロー\" in x[\"内容\"]:\n",
    "        return \"トラブル対応\"\n",
    "    else:\n",
    "        return x[\"カテゴリ\"]\n",
    "\n",
    "# 商品問題\n",
    "def func2(x):\n",
    "    if \"破損\" in x[\"内容\"]:\n",
    "        return \"商品問題\"\n",
    "    elif  \"傷\" in x[\"内容\"]:\n",
    "        return \"商品問題\"\n",
    "    else:\n",
    "        return x[\"カテゴリ\"]\n",
    "\n",
    "# 配送\n",
    "def func3(x):\n",
    "    if \"配送\" in x[\"内容\"]:\n",
    "        return \"配送問題\"\n",
    "    elif  \"発送\" in x[\"内容\"]:\n",
    "        return \"配送問題\"\n",
    "    elif  \"ヤマト\" in x[\"内容\"]:\n",
    "        return \"配送問題\"\n",
    "    elif  \"送料\" in x[\"内容\"]:\n",
    "        return \"配送問題\"\n",
    "    else:\n",
    "        return x[\"カテゴリ\"]\n",
    "\n",
    "# キャンセル\n",
    "def func4(x):\n",
    "    if \"キャンセル\" in x[\"内容\"]:\n",
    "        return \"キャンセル\"\n",
    "    else:\n",
    "        return x[\"カテゴリ\"]\n",
    "    \n",
    "# 制限&エラー\n",
    "def func5(x):\n",
    "    if \"削除\" in x[\"内容\"]:\n",
    "        return \"制限&エラー\"\n",
    "    elif \"ログイン\" in x[\"内容\"]:\n",
    "        return \"制限&エラー\"\n",
    "    elif \"認証\" in x[\"内容\"]:\n",
    "        return \"制限&エラー\"\n",
    "    else:\n",
    "        return x[\"カテゴリ\"]\n",
    "    \n",
    "# def func6(x):\n",
    "#     if None in x[\"内容\"]:\n",
    "#         return \"その他\"\n",
    "\n",
    "df_point_23 = df_point_23.assign(カテゴリ = lambda x:x.apply(func, axis=1))\n",
    "df_point_23 = df_point_23.assign(カテゴリ = lambda x:x.apply(func2, axis=1))\n",
    "df_point_23 = df_point_23.assign(カテゴリ = lambda x:x.apply(func3, axis=1))\n",
    "df_point_23 = df_point_23.assign(カテゴリ = lambda x:x.apply(func4, axis=1))\n",
    "df_point_23 = df_point_23.assign(カテゴリ = lambda x:x.apply(func5, axis=1))\n",
    "# df_point_23 = df_point_23.assign(カテゴリ = lambda x:x.apply(func6, axis=1))\n",
    "df_point_23"
   ]
  },
  {
   "cell_type": "code",
   "execution_count": 55,
   "metadata": {},
   "outputs": [
    {
     "data": {
      "text/html": [
       "<div>\n",
       "<style scoped>\n",
       "    .dataframe tbody tr th:only-of-type {\n",
       "        vertical-align: middle;\n",
       "    }\n",
       "\n",
       "    .dataframe tbody tr th {\n",
       "        vertical-align: top;\n",
       "    }\n",
       "\n",
       "    .dataframe thead th {\n",
       "        text-align: right;\n",
       "    }\n",
       "</style>\n",
       "<table border=\"1\" class=\"dataframe\">\n",
       "  <thead>\n",
       "    <tr style=\"text-align: right;\">\n",
       "      <th></th>\n",
       "      <th>index</th>\n",
       "      <th>内容</th>\n",
       "      <th>点数</th>\n",
       "      <th>カテゴリ</th>\n",
       "    </tr>\n",
       "  </thead>\n",
       "  <tbody>\n",
       "    <tr>\n",
       "      <th>0</th>\n",
       "      <td>305</td>\n",
       "      <td>\\nトラブルがおこってメルカリに問い合わせしても対応なし\\n</td>\n",
       "      <td>-0.797181</td>\n",
       "      <td>トラブル対応</td>\n",
       "    </tr>\n",
       "    <tr>\n",
       "      <th>1</th>\n",
       "      <td>304</td>\n",
       "      <td>\\n問い合わせの対応が遅すぎる。\\r\\nダラダラダラダラ何日もかけてやりとりするのなぜですか？\\n</td>\n",
       "      <td>-0.767037</td>\n",
       "      <td>トラブル対応</td>\n",
       "    </tr>\n",
       "    <tr>\n",
       "      <th>2</th>\n",
       "      <td>303</td>\n",
       "      <td>\\nサロンで必要な足湯機を探していた。\\r\\nほぼ適正価格で、写真もあった。\\r\\n送られて...</td>\n",
       "      <td>-0.733151</td>\n",
       "      <td>商品問題</td>\n",
       "    </tr>\n",
       "    <tr>\n",
       "      <th>3</th>\n",
       "      <td>302</td>\n",
       "      <td>\\n他の方も被害に合ってる様でトラブル対応が最悪　定型文ばっかり送ってきて実際に調べる気O ...</td>\n",
       "      <td>-0.726375</td>\n",
       "      <td>トラブル対応</td>\n",
       "    </tr>\n",
       "    <tr>\n",
       "      <th>4</th>\n",
       "      <td>301</td>\n",
       "      <td>\\n赤ちゃん用の肌着が下着扱いらしくて商品削除されて利用制限もかけられた。\\r\\nだったら全...</td>\n",
       "      <td>-0.723796</td>\n",
       "      <td>制限&amp;エラー</td>\n",
       "    </tr>\n",
       "    <tr>\n",
       "      <th>...</th>\n",
       "      <td>...</td>\n",
       "      <td>...</td>\n",
       "      <td>...</td>\n",
       "      <td>...</td>\n",
       "    </tr>\n",
       "    <tr>\n",
       "      <th>298</th>\n",
       "      <td>7</td>\n",
       "      <td>\\n知名度が高く、皆さんがよく使われているフリマアプリでも、送料にまで10% の手数料がかか...</td>\n",
       "      <td>-0.261267</td>\n",
       "      <td>配送問題</td>\n",
       "    </tr>\n",
       "    <tr>\n",
       "      <th>300</th>\n",
       "      <td>5</td>\n",
       "      <td>\\n送料込みにしないとほとんど売れない。利益より送料が多い。誰かに喜んでもらえるならのボラン...</td>\n",
       "      <td>-0.204104</td>\n",
       "      <td>配送問題</td>\n",
       "    </tr>\n",
       "    <tr>\n",
       "      <th>302</th>\n",
       "      <td>3</td>\n",
       "      <td>\\nお問い合わせしてもテンプレート貼るだけのやっつけ仕事。トラブルに解決しようとする誠意が全...</td>\n",
       "      <td>-0.191247</td>\n",
       "      <td>配送問題</td>\n",
       "    </tr>\n",
       "    <tr>\n",
       "      <th>303</th>\n",
       "      <td>2</td>\n",
       "      <td>\\n問い合わせ電話番号がないので、名ばかりのカスタマーサポートに内容を入力して送信して回答待...</td>\n",
       "      <td>-0.190720</td>\n",
       "      <td>トラブル対応</td>\n",
       "    </tr>\n",
       "    <tr>\n",
       "      <th>305</th>\n",
       "      <td>0</td>\n",
       "      <td>\\n返品対応で相談したら、何もサポートしてくれなくて、でも「引き続きサポートさせていただきま...</td>\n",
       "      <td>-0.177941</td>\n",
       "      <td>トラブル対応</td>\n",
       "    </tr>\n",
       "  </tbody>\n",
       "</table>\n",
       "<p>240 rows × 4 columns</p>\n",
       "</div>"
      ],
      "text/plain": [
       "     index                                                 内容        点数  \\\n",
       "0      305                     \\nトラブルがおこってメルカリに問い合わせしても対応なし\\n -0.797181   \n",
       "1      304  \\n問い合わせの対応が遅すぎる。\\r\\nダラダラダラダラ何日もかけてやりとりするのなぜですか？\\n -0.767037   \n",
       "2      303  \\nサロンで必要な足湯機を探していた。\\r\\nほぼ適正価格で、写真もあった。\\r\\n送られて... -0.733151   \n",
       "3      302  \\n他の方も被害に合ってる様でトラブル対応が最悪　定型文ばっかり送ってきて実際に調べる気O ... -0.726375   \n",
       "4      301  \\n赤ちゃん用の肌着が下着扱いらしくて商品削除されて利用制限もかけられた。\\r\\nだったら全... -0.723796   \n",
       "..     ...                                                ...       ...   \n",
       "298      7  \\n知名度が高く、皆さんがよく使われているフリマアプリでも、送料にまで10% の手数料がかか... -0.261267   \n",
       "300      5  \\n送料込みにしないとほとんど売れない。利益より送料が多い。誰かに喜んでもらえるならのボラン... -0.204104   \n",
       "302      3  \\nお問い合わせしてもテンプレート貼るだけのやっつけ仕事。トラブルに解決しようとする誠意が全... -0.191247   \n",
       "303      2  \\n問い合わせ電話番号がないので、名ばかりのカスタマーサポートに内容を入力して送信して回答待... -0.190720   \n",
       "305      0  \\n返品対応で相談したら、何もサポートしてくれなくて、でも「引き続きサポートさせていただきま... -0.177941   \n",
       "\n",
       "       カテゴリ  \n",
       "0    トラブル対応  \n",
       "1    トラブル対応  \n",
       "2      商品問題  \n",
       "3    トラブル対応  \n",
       "4    制限&エラー  \n",
       "..      ...  \n",
       "298    配送問題  \n",
       "300    配送問題  \n",
       "302    配送問題  \n",
       "303  トラブル対応  \n",
       "305  トラブル対応  \n",
       "\n",
       "[240 rows x 4 columns]"
      ]
     },
     "execution_count": 55,
     "metadata": {},
     "output_type": "execute_result"
    }
   ],
   "source": [
    "df_point_23[~df_point_23[\"カテゴリ\"].isnull()]"
   ]
  },
  {
   "cell_type": "code",
   "execution_count": 56,
   "metadata": {},
   "outputs": [
    {
     "data": {
      "text/html": [
       "<div>\n",
       "<style scoped>\n",
       "    .dataframe tbody tr th:only-of-type {\n",
       "        vertical-align: middle;\n",
       "    }\n",
       "\n",
       "    .dataframe tbody tr th {\n",
       "        vertical-align: top;\n",
       "    }\n",
       "\n",
       "    .dataframe thead th {\n",
       "        text-align: right;\n",
       "    }\n",
       "</style>\n",
       "<table border=\"1\" class=\"dataframe\">\n",
       "  <thead>\n",
       "    <tr style=\"text-align: right;\">\n",
       "      <th></th>\n",
       "      <th>index</th>\n",
       "      <th>内容</th>\n",
       "      <th>点数</th>\n",
       "      <th>カテゴリ</th>\n",
       "    </tr>\n",
       "  </thead>\n",
       "  <tbody>\n",
       "    <tr>\n",
       "      <th>0</th>\n",
       "      <td>305</td>\n",
       "      <td>\\nトラブルがおこってメルカリに問い合わせしても対応なし\\n</td>\n",
       "      <td>-0.797181</td>\n",
       "      <td>トラブル対応</td>\n",
       "    </tr>\n",
       "    <tr>\n",
       "      <th>1</th>\n",
       "      <td>304</td>\n",
       "      <td>\\n問い合わせの対応が遅すぎる。\\r\\nダラダラダラダラ何日もかけてやりとりするのなぜですか？\\n</td>\n",
       "      <td>-0.767037</td>\n",
       "      <td>トラブル対応</td>\n",
       "    </tr>\n",
       "    <tr>\n",
       "      <th>3</th>\n",
       "      <td>302</td>\n",
       "      <td>\\n他の方も被害に合ってる様でトラブル対応が最悪　定型文ばっかり送ってきて実際に調べる気O ...</td>\n",
       "      <td>-0.726375</td>\n",
       "      <td>トラブル対応</td>\n",
       "    </tr>\n",
       "    <tr>\n",
       "      <th>6</th>\n",
       "      <td>299</td>\n",
       "      <td>\\nいきなり利用停止処分を受け 問い合わせをしたけれども \\r\\nマニュアル通りの回答 (勿...</td>\n",
       "      <td>-0.712733</td>\n",
       "      <td>トラブル対応</td>\n",
       "    </tr>\n",
       "    <tr>\n",
       "      <th>8</th>\n",
       "      <td>297</td>\n",
       "      <td>\\n事実と異なる言いがかりをつけられ、悪評をつけられたため事務局に相談したが、先に問い合わせ...</td>\n",
       "      <td>-0.704139</td>\n",
       "      <td>トラブル対応</td>\n",
       "    </tr>\n",
       "    <tr>\n",
       "      <th>...</th>\n",
       "      <td>...</td>\n",
       "      <td>...</td>\n",
       "      <td>...</td>\n",
       "      <td>...</td>\n",
       "    </tr>\n",
       "    <tr>\n",
       "      <th>294</th>\n",
       "      <td>11</td>\n",
       "      <td>\\n民度が低いです。購入して届いたにも関わらず評価をしない購入者やなかなか受け取らない購入者...</td>\n",
       "      <td>-0.287895</td>\n",
       "      <td>トラブル対応</td>\n",
       "    </tr>\n",
       "    <tr>\n",
       "      <th>295</th>\n",
       "      <td>10</td>\n",
       "      <td>\\n何回も問い合わせしても定型文返信でやる気なし。\\r\\nいつまでそんな対応で誤魔化せるか楽...</td>\n",
       "      <td>-0.287085</td>\n",
       "      <td>トラブル対応</td>\n",
       "    </tr>\n",
       "    <tr>\n",
       "      <th>296</th>\n",
       "      <td>9</td>\n",
       "      <td>\\n明らかに人が減った。いいねすらろくにつかなくなってきた。\\r\\n運営の対応も日増しにずさ...</td>\n",
       "      <td>-0.285011</td>\n",
       "      <td>トラブル対応</td>\n",
       "    </tr>\n",
       "    <tr>\n",
       "      <th>303</th>\n",
       "      <td>2</td>\n",
       "      <td>\\n問い合わせ電話番号がないので、名ばかりのカスタマーサポートに内容を入力して送信して回答待...</td>\n",
       "      <td>-0.190720</td>\n",
       "      <td>トラブル対応</td>\n",
       "    </tr>\n",
       "    <tr>\n",
       "      <th>305</th>\n",
       "      <td>0</td>\n",
       "      <td>\\n返品対応で相談したら、何もサポートしてくれなくて、でも「引き続きサポートさせていただきま...</td>\n",
       "      <td>-0.177941</td>\n",
       "      <td>トラブル対応</td>\n",
       "    </tr>\n",
       "  </tbody>\n",
       "</table>\n",
       "<p>88 rows × 4 columns</p>\n",
       "</div>"
      ],
      "text/plain": [
       "     index                                                 内容        点数  \\\n",
       "0      305                     \\nトラブルがおこってメルカリに問い合わせしても対応なし\\n -0.797181   \n",
       "1      304  \\n問い合わせの対応が遅すぎる。\\r\\nダラダラダラダラ何日もかけてやりとりするのなぜですか？\\n -0.767037   \n",
       "3      302  \\n他の方も被害に合ってる様でトラブル対応が最悪　定型文ばっかり送ってきて実際に調べる気O ... -0.726375   \n",
       "6      299  \\nいきなり利用停止処分を受け 問い合わせをしたけれども \\r\\nマニュアル通りの回答 (勿... -0.712733   \n",
       "8      297  \\n事実と異なる言いがかりをつけられ、悪評をつけられたため事務局に相談したが、先に問い合わせ... -0.704139   \n",
       "..     ...                                                ...       ...   \n",
       "294     11  \\n民度が低いです。購入して届いたにも関わらず評価をしない購入者やなかなか受け取らない購入者... -0.287895   \n",
       "295     10  \\n何回も問い合わせしても定型文返信でやる気なし。\\r\\nいつまでそんな対応で誤魔化せるか楽... -0.287085   \n",
       "296      9  \\n明らかに人が減った。いいねすらろくにつかなくなってきた。\\r\\n運営の対応も日増しにずさ... -0.285011   \n",
       "303      2  \\n問い合わせ電話番号がないので、名ばかりのカスタマーサポートに内容を入力して送信して回答待... -0.190720   \n",
       "305      0  \\n返品対応で相談したら、何もサポートしてくれなくて、でも「引き続きサポートさせていただきま... -0.177941   \n",
       "\n",
       "       カテゴリ  \n",
       "0    トラブル対応  \n",
       "1    トラブル対応  \n",
       "3    トラブル対応  \n",
       "6    トラブル対応  \n",
       "8    トラブル対応  \n",
       "..      ...  \n",
       "294  トラブル対応  \n",
       "295  トラブル対応  \n",
       "296  トラブル対応  \n",
       "303  トラブル対応  \n",
       "305  トラブル対応  \n",
       "\n",
       "[88 rows x 4 columns]"
      ]
     },
     "execution_count": 56,
     "metadata": {},
     "output_type": "execute_result"
    }
   ],
   "source": [
    "df_point_23[df_point_23[\"カテゴリ\"] == \"トラブル対応\"]"
   ]
  },
  {
   "cell_type": "code",
   "execution_count": 57,
   "metadata": {},
   "outputs": [
    {
     "data": {
      "text/plain": [
       "<Axes: >"
      ]
     },
     "execution_count": 57,
     "metadata": {},
     "output_type": "execute_result"
    },
    {
     "data": {
      "image/png": "[encoded data removed]",
      "text/plain": [
       "<Figure size 640x480 with 1 Axes>"
      ]
     },
     "metadata": {},
     "output_type": "display_data"
    }
   ],
   "source": [
    "import matplotlib.pyplot as plt\n",
    "plt.rcParams['font.family'] = \"Hiragino sans\"\n",
    "\n",
    "df_point_23[\"カテゴリ\"].value_counts().plot(kind=\"bar\")\n"
   ]
  },
  {
   "cell_type": "code",
   "execution_count": 58,
   "metadata": {},
   "outputs": [
    {
     "data": {
      "image/png": "[encoded data removed]",
      "text/plain": [
       "<Figure size 640x480 with 1 Axes>"
      ]
     },
     "metadata": {},
     "output_type": "display_data"
    }
   ],
   "source": [
    "df_point_23[\"カテゴリ\"].value_counts().plot(kind=\"bar\")\n",
    "plt.savefig(\"result/bar_chart.png\", format=\"png\", dpi=100, pad_inches=0.5, bbox_inches=\"tight\")"
   ]
  },
  {
   "cell_type": "code",
   "execution_count": 59,
   "metadata": {},
   "outputs": [],
   "source": [
    "df_point_23.to_csv(\"review_point_23.csv\")"
   ]
  },
  {
   "attachments": {},
   "cell_type": "markdown",
   "metadata": {},
   "source": [
    "# 頻出単語"
   ]
  },
  {
   "cell_type": "code",
   "execution_count": 28,
   "metadata": {},
   "outputs": [],
   "source": [
    "for text in df_22[\"str\"]:\n",
    "    node = mecab.parseToNode(text)\n",
    "    words=[]\n",
    "    while node:\n",
    "        words.append(node.surface)\n",
    "        node = node.next"
   ]
  },
  {
   "cell_type": "code",
   "execution_count": 26,
   "metadata": {},
   "outputs": [
    {
     "name": "stdout",
     "output_type": "stream",
     "text": [
      "[('の', 6), ('を', 6), ('が', 6), ('\\r', 6), ('た', 5), ('ない', 5), ('て', 5), ('と', 5), ('し', 4), ('', 2), ('購入者', 2), ('送っ', 2), ('クレーム', 2), ('来', 2), ('ので', 2), ('は', 2), ('に', 2), ('か', 2), ('新品', 1), ('シール', 1)]\n"
     ]
    }
   ],
   "source": [
    "#単語の数カウント\n",
    "import collections\n",
    "c = collections.Counter(words)\n",
    "print(c.most_common(20))\n"
   ]
  },
  {
   "cell_type": "code",
   "execution_count": 32,
   "metadata": {},
   "outputs": [
    {
     "name": "stdout",
     "output_type": "stream",
     "text": [
      "[('する', 5), ('購入者', 2), ('送る', 2), ('クレーム', 2), ('来る', 2), ('の', 2), ('新品', 1), ('シール', 1), ('商品', 1), ('販売', 1), ('側', 1), ('上手い', 1), ('貼れる', 1), ('代替え', 1), ('品', 1), ('ほしい', 1), ('つける', 1), ('それ', 1), ('無理', 1), ('嫌み', 1), ('よう', 1), ('事務局', 1), ('相談', 1), ('返る', 1), ('くる', 1), ('返答', 1), ('代金', 1), ('返金', 1), ('円満', 1), ('解決', 1), ('きた', 1), ('不備', 1), ('こっち', 1), ('面倒', 1), ('みる', 1), ('いける', 1), ('理解', 1), ('できる', 1), ('運営', 1), ('取引', 1), ('やり取り', 1), ('確認', 1), ('てる', 1), ('思う', 1)]\n"
     ]
    }
   ],
   "source": [
    "for text in df_22[\"str\"]:\n",
    "    node = mecab.parseToNode(text)\n",
    "    words=[]\n",
    "    while node:\n",
    "        hinshi = node.feature.split(\",\")[0]\n",
    "        if hinshi in [\"名詞\",\"動詞\",\"形容詞\"]:\n",
    "            origin = node.feature.split(\",\")[6]\n",
    "            words.append(origin)\n",
    "        node = node.next\n",
    "\n",
    "#単語の数カウント\n",
    "import collections\n",
    "c = collections.Counter(words)\n",
    "print(c.most_common(100))\n"
   ]
  },
  {
   "cell_type": "code",
   "execution_count": null,
   "metadata": {},
   "outputs": [],
   "source": [
    "import seaborn as sns\n",
    "import matplotlib.pyplot as plt\n",
    " \n",
    "sns.set(context=\"talk\")\n",
    "fig = plt.subplots(figsize=(8, 8))\n",
    " \n",
    "sns.countplot(y=words,order=[i[0] for i in c.most_common(20)])"
   ]
  },
  {
   "cell_type": "code",
   "execution_count": 41,
   "metadata": {},
   "outputs": [
    {
     "name": "stderr",
     "output_type": "stream",
     "text": [
      "[nltk_data] Downloading package punkt to /Users/gyama/nltk_data...\n",
      "[nltk_data]   Package punkt is already up-to-date!\n",
      "[nltk_data] Downloading package stopwords to /Users/gyama/nltk_data...\n",
      "[nltk_data]   Package stopwords is already up-to-date!\n"
     ]
    }
   ],
   "source": [
    "import nltk\n",
    "nltk.download('punkt')\n",
    "nltk.download(\"stopwords\")\n",
    "from nltk.tokenize import word_tokenize\n",
    "from nltk.corpus import stopwords\n",
    "\n",
    "# 口コミデータからテキストを取得する\n",
    "for text in df_23[\"str\"]:\n",
    "    # 文章をトークン化し、単語ごとに分割する\n",
    "    tokens = word_tokenize(text.lower())\n",
    "\n",
    "    # ストップワードを除去する\n",
    "    stop_words = set(stopwords.words('english'))\n",
    "    filtered_tokens = [token for token in tokens if token not in stop_words]\n"
   ]
  },
  {
   "cell_type": "code",
   "execution_count": 42,
   "metadata": {},
   "outputs": [
    {
     "name": "stdout",
     "output_type": "stream",
     "text": [
      "[('退会しても自分のマイナンバーや顔写真、住所や生年月日が、いつまでもメルカリに残り、削除する方法はなく、流出する可能性があるのは怖いです。その点を柔軟な方法に変えてもらえればバッチリと感じました。', 1), ('←', 1), ('マイナンバーカードと同じで１０００ポイントプレゼントとかに釣られて', 1), ('マイナンバーカードとか提出している人間が悪いだけでは。', 1), ('メルカリって別に本人確認必須でないのでもちろん本人確認していないし', 1), ('マイナンバーカードも保険証紐づけで７０００円とか、信用もない日本政府がやっているけど、', 1), ('もちろんそんなのに釣られて作ってないし', 1), ('昼間いる層は民度低いだろうな、無職とかパートだろうし', 1), ('夜とかは民度は特に低いと感じない', 1)]\n"
     ]
    }
   ],
   "source": [
    "from nltk.probability import FreqDist\n",
    "\n",
    "# 単語の出現頻度を数える\n",
    "freq_dist = FreqDist(filtered_tokens)\n",
    "\n",
    "# 出現頻度が高い上位10件の単語を取得する\n",
    "top_words = freq_dist.most_common(20)\n",
    "print(top_words)"
   ]
  },
  {
   "cell_type": "code",
   "execution_count": null,
   "metadata": {},
   "outputs": [],
   "source": []
  }
 ],
 "metadata": {
  "kernelspec": {
   "display_name": "mecab",
   "language": "python",
   "name": "python3"
  },
  "language_info": {
   "codemirror_mode": {
    "name": "ipython",
    "version": 3
   },
   "file_extension": ".py",
   "mimetype": "text/x-python",
   "name": "python",
   "nbconvert_exporter": "python",
   "pygments_lexer": "ipython3",
   "version": "3.8.16"
  },
  "orig_nbformat": 4
 },
 "nbformat": 4,
 "nbformat_minor": 2
}
